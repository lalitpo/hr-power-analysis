{
 "cells": [
  {
   "cell_type": "markdown",
   "metadata": {},
   "source": [
    "# Retrieve all the relevant data from the table athletic-data in the database.\n",
    "# Pre-requisite :\n",
    "  1. Activity has to be of more than 2hrs.\n",
    "  2. Watts and HeartRate column should not be null."
   ]
  },
  {
   "cell_type": "code",
   "execution_count": 1,
   "metadata": {
    "ExecuteTime": {
     "start_time": "2023-05-31T10:29:10.068165Z",
     "end_time": "2023-05-31T10:29:16.512312Z"
    }
   },
   "outputs": [
    {
     "name": "stdout",
     "output_type": "stream",
     "text": [
      "You are successfully connected to your Database!\n"
     ]
    },
    {
     "name": "stderr",
     "output_type": "stream",
     "text": [
      "/Users/lalitpoddar/Desktop/Uni/MS Project Thesis/hr-power-analysis/src/repositories/PowerAndHRRepository.py:13: UserWarning: pandas only supports SQLAlchemy connectable (engine/connection) or database string URI or sqlite3 DBAPI2 connection. Other DBAPI2 objects are not tested. Please consider using SQLAlchemy.\n",
      "  return pd.read_sql(configs.get(\"athletic-record-query\").data, hr_power_db_conn)\n"
     ]
    }
   ],
   "source": [
    "from src.repositories.PowerAndHRRepository import *\n",
    "\n",
    "athletic_data_db = get_athletic_data()"
   ]
  },
  {
   "cell_type": "markdown",
   "metadata": {},
   "source": [
    "# DATA PROFILING : Removing irrelevant columns not required for analysis."
   ]
  },
  {
   "cell_type": "code",
   "execution_count": 2,
   "metadata": {
    "ExecuteTime": {
     "start_time": "2023-05-31T10:29:16.578152Z",
     "end_time": "2023-05-31T10:29:16.584800Z"
    }
   },
   "outputs": [],
   "source": [
    "cols_to_ignore = configs.get(\"ignore-columns\").data\n",
    "athletic_data = athletic_data_db.drop(cols_to_ignore.split(\",\"), axis=1)"
   ]
  },
  {
   "cell_type": "markdown",
   "metadata": {},
   "source": [
    "# DATA CLEANSING : Filling missing data with immediate pre- and post-values' mean"
   ]
  },
  {
   "cell_type": "code",
   "execution_count": 3,
   "metadata": {
    "ExecuteTime": {
     "start_time": "2023-05-31T10:29:16.623272Z",
     "end_time": "2023-05-31T10:29:22.535770Z"
    }
   },
   "outputs": [],
   "source": [
    "def update_NA_values(lst):\n",
    "    for i in range(len(lst)):\n",
    "        if lst[i] is None:\n",
    "            j = i - 1\n",
    "            while j >= 0 and lst[j] is None:\n",
    "                j -= 1\n",
    "            previous_value = lst[j] if j >= 0 else None\n",
    "            j = i + 1\n",
    "            while j < len(lst) and lst[j] is None:\n",
    "                j += 1\n",
    "            next_value = lst[j] if j < len(lst) else None\n",
    "            if previous_value is not None and next_value is not None:\n",
    "                lst[i] = (previous_value + next_value) / 2\n",
    "            elif previous_value is not None:\n",
    "                lst[i] = previous_value\n",
    "            elif next_value is not None:\n",
    "                lst[i] = next_value\n",
    "    return lst\n",
    "\n",
    "\n",
    "athletic_data['heartrate'] = athletic_data['heartrate'].apply(update_NA_values)\n",
    "athletic_data['watts'] = athletic_data['watts'].apply(update_NA_values)\n",
    "\n",
    "\n",
    "# Remove rows with more than half of values as None in heartrate or watts lists\n",
    "athletic_data = athletic_data[(athletic_data['heartrate'].apply(lambda x: x.count(None) <= len(x) / 2)) &\n",
    "            (athletic_data['watts'].apply(lambda x: x.count(None) <= len(x) / 2))]\n",
    "\n",
    "# Filter the DataFrame based on the activity_id\n",
    "filtered_data = athletic_data[athletic_data['activity_id'] == 9057354882]\n",
    "\n",
    "# Get the unique values in the 'watts' list\n",
    "unique_values = set(filtered_data['watts'].sum())\n",
    "\n",
    "print(unique_values)"
   ]
  }
 ],
 "metadata": {
  "kernelspec": {
   "display_name": "Python 3 (ipykernel)",
   "language": "python",
   "name": "python3"
  },
  "language_info": {
   "codemirror_mode": {
    "name": "ipython",
    "version": 3
   },
   "file_extension": ".py",
   "mimetype": "text/x-python",
   "name": "python",
   "nbconvert_exporter": "python",
   "pygments_lexer": "ipython3",
   "version": "3.11.3"
  }
 },
 "nbformat": 4,
 "nbformat_minor": 1
}
