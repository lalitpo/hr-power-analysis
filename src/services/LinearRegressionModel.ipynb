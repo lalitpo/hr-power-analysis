{
 "cells": [
  {
   "cell_type": "markdown",
   "source": [
    "#Access Pre-processed data\n",
    " Reading the pre-processed athletic_data dataframe"
   ],
   "metadata": {
    "collapsed": false
   }
  },
  {
   "cell_type": "code",
   "execution_count": 1,
   "outputs": [
    {
     "name": "stdout",
     "output_type": "stream",
     "text": [
      "No mismatch found\n"
     ]
    }
   ],
   "source": [
    "import matplotlib.pyplot as plt\n",
    "%store -r athletic_data\n",
    "data = athletic_data\n",
    "\n",
    "#Removing rows with mismatch in heartrate and power rows length mismatch.\n",
    "activity_data = data[data.apply(lambda row: len(row['heartrate']) == len(row['power']), axis=1)]\n",
    "\n",
    "# Flag to keep track of mismatch\n",
    "mismatch_found = False\n",
    "\n",
    "for index, row in activity_data.iterrows():\n",
    "    hr_length = len(row['heartrate'])\n",
    "    pow_length = len(row['power'])\n",
    "    if hr_length != pow_length:\n",
    "        print(f\"Mismatch found in row {index+1}: Length of 'hr' column is {hr_length}, Length of 'pow' column is {pow_length}\")\n",
    "        mismatch_found = True\n",
    "\n",
    "if not mismatch_found:\n",
    "    print(\"No mismatch found\")"
   ],
   "metadata": {
    "collapsed": false,
    "ExecuteTime": {
     "end_time": "2023-06-14T22:31:03.527935Z",
     "start_time": "2023-06-14T22:31:01.181361Z"
    }
   }
  },
  {
   "cell_type": "markdown",
   "source": [
    "#STEP 1 : Visualizing the original data by plotting it with pandas"
   ],
   "metadata": {
    "collapsed": false
   }
  },
  {
   "cell_type": "code",
   "execution_count": null,
   "outputs": [],
   "source": [
    "\n",
    "for index, row in activity_data.iterrows():\n",
    "    hr_values = row['heartrate']\n",
    "    pow_values = row['power']\n",
    "    plt.scatter(pow_values, hr_values)\n",
    "    # Set x-axis limits\n",
    "    #plt.xlim(0, max(pow_values))  # Set the lower limit as 0 and the upper limit as the maximum value of x-axis param\n",
    "\n",
    "\n",
    "plt.xlabel('Power')\n",
    "plt.ylabel('Heart Rate')\n",
    "plt.title('ScatterPlot of Heartrate and Power')\n",
    "plt.legend()\n",
    "plt.show()\n"
   ],
   "metadata": {
    "collapsed": false
   }
  },
  {
   "cell_type": "markdown",
   "source": [
    "#STEP 2 : Visualizing the heartrate and power data in separate histograms\n"
   ],
   "metadata": {
    "collapsed": false
   }
  },
  {
   "cell_type": "code",
   "execution_count": null,
   "outputs": [],
   "source": [
    "import matplotlib.pyplot as plt\n",
    "import numpy as np\n",
    "\n",
    "# Flatten the 'heartrate' and 'power' columns\n",
    "heartrate_flat = np.concatenate(activity_data['heartrate'].values)\n",
    "power_flat = np.concatenate(activity_data['power'].values)\n",
    "\n",
    "# Create subplots for the histograms\n",
    "fig, (ax1, ax2) = plt.subplots(1, 2, figsize=(18, 7))\n",
    "\n",
    "# Plot the histogram of heartrate\n",
    "ax1.hist(heartrate_flat, bins='auto')\n",
    "ax1.set_xlabel('Heartrate')\n",
    "ax1.set_ylabel('Frequency')\n",
    "ax1.set_title('Histogram of Heartrate')\n",
    "\n",
    "# Set x-axis limit for better visibility of data close to zero\n",
    "ax1.set_ylim(bottom=0)\n",
    "\n",
    "# Plot the histogram of power\n",
    "ax2.hist(power_flat, bins='auto')\n",
    "ax2.set_xlabel('Power')\n",
    "ax2.set_ylabel('Frequency')\n",
    "ax2.set_title('Histogram of Power')\n",
    "\n",
    "# Set x-axis limit for better visibility of data close to zero\n",
    "ax2.set_ylim(bottom=0)\n",
    "# Adjust spacing between subplots\n",
    "plt.tight_layout()\n",
    "\n",
    "# Display the plot\n",
    "plt.show()\n"
   ],
   "metadata": {
    "collapsed": false
   }
  },
  {
   "cell_type": "markdown",
   "source": [],
   "metadata": {
    "collapsed": false
   }
  }
 ],
 "metadata": {
  "kernelspec": {
   "display_name": "Python 3",
   "language": "python",
   "name": "python3"
  },
  "language_info": {
   "codemirror_mode": {
    "name": "ipython",
    "version": 2
   },
   "file_extension": ".py",
   "mimetype": "text/x-python",
   "name": "python",
   "nbconvert_exporter": "python",
   "pygments_lexer": "ipython2",
   "version": "2.7.6"
  }
 },
 "nbformat": 4,
 "nbformat_minor": 0
}
