{
 "cells": [
  {
   "cell_type": "markdown",
   "source": [
    "#Access Pre-processed data\n",
    " Reading the pre-processed athletic_data dataframe"
   ],
   "metadata": {
    "collapsed": false
   }
  },
  {
   "cell_type": "code",
   "execution_count": 1,
   "outputs": [
    {
     "name": "stdout",
     "output_type": "stream",
     "text": [
      "No mismatch found\n"
     ]
    }
   ],
   "source": [
    "import matplotlib.pyplot as plt\n",
    "%store -r athletic_data\n",
    "data = athletic_data\n",
    "\n",
    "#Removing rows with mismatch in heartrate and power rows length mismatch.\n",
    "activity_data = data[data.apply(lambda row: len(row['heartrate']) == len(row['power']), axis=1)]\n",
    "\n",
    "# Flag to keep track of mismatch\n",
    "mismatch_found = False\n",
    "\n",
    "for index, row in activity_data.iterrows():\n",
    "    hr_length = len(row['heartrate'])\n",
    "    pow_length = len(row['power'])\n",
    "    if hr_length != pow_length:\n",
    "        print(f\"Mismatch found in row {index+1}: Length of 'hr' column is {hr_length}, Length of 'pow' column is {pow_length}\")\n",
    "        mismatch_found = True\n",
    "\n",
    "if not mismatch_found:\n",
    "    print(\"No mismatch found\")"
   ],
   "metadata": {
    "collapsed": false,
    "ExecuteTime": {
     "end_time": "2023-06-14T22:31:03.527935Z",
     "start_time": "2023-06-14T22:31:01.181361Z"
    }
   }
  },
  {
   "cell_type": "markdown",
   "source": [
    "#STEP 1 : Visualizing the original data by plotting it with pandas"
   ],
   "metadata": {
    "collapsed": false
   }
  },
  {
   "cell_type": "code",
   "execution_count": null,
   "outputs": [],
   "source": [
    "\n",
    "for index, row in activity_data.iterrows():\n",
    "    hr_values = row['heartrate']\n",
    "    pow_values = row['power']\n",
    "    plt.scatter(pow_values, hr_values)\n",
    "    # Set x-axis limits\n",
    "    #plt.xlim(0, max(pow_values))  # Set the lower limit as 0 and the upper limit as the maximum value of x-axis param\n",
    "\n",
    "\n",
    "plt.xlabel('Power')\n",
    "plt.ylabel('Heart Rate')\n",
    "plt.title('ScatterPlot of Heartrate and Power')\n",
    "plt.legend()\n",
    "plt.show()\n"
   ],
   "metadata": {
    "collapsed": false
   }
  },
  {
   "cell_type": "markdown",
   "source": [
    "#STEP 2 : Visualizing the heartrate and power data in separate histograms\n"
   ],
   "metadata": {
    "collapsed": false
   }
  },
  {
   "cell_type": "code",
   "execution_count": null,
   "outputs": [],
   "source": [
    "import matplotlib.pyplot as plt\n",
    "import numpy as np\n",
    "\n",
    "# Flatten the 'heartrate' and 'power' columns\n",
    "heartrate_flat = np.concatenate(activity_data['heartrate'].values)\n",
    "power_flat = np.concatenate(activity_data['power'].values)\n",
    "\n",
    "# Create subplots for the histograms\n",
    "fig, (ax1, ax2) = plt.subplots(1, 2, figsize=(18, 7))\n",
    "\n",
    "# Plot the histogram of heartrate\n",
    "ax1.hist(heartrate_flat, bins='auto')\n",
    "ax1.set_xlabel('Heartrate')\n",
    "ax1.set_ylabel('Frequency')\n",
    "ax1.set_title('Histogram of Heartrate')\n",
    "\n",
    "# Set x-axis limit for better visibility of data close to zero\n",
    "ax1.set_ylim(bottom=0)\n",
    "\n",
    "# Plot the histogram of power\n",
    "ax2.hist(power_flat, bins='auto')\n",
    "ax2.set_xlabel('Power')\n",
    "ax2.set_ylabel('Frequency')\n",
    "ax2.set_title('Histogram of Power')\n",
    "\n",
    "# Set x-axis limit for better visibility of data close to zero\n",
    "ax2.set_ylim(bottom=0)\n",
    "# Adjust spacing between subplots\n",
    "plt.tight_layout()\n",
    "\n",
    "# Display the plot\n",
    "plt.show()\n"
   ],
   "metadata": {
    "collapsed": false
   }
  },
  {
   "cell_type": "markdown",
   "source": [
    "# Evaluating the HR derivative using functional analysis regression"
   ],
   "metadata": {
    "collapsed": false
   }
  },
  {
   "cell_type": "code",
   "execution_count": 2,
   "outputs": [
    {
     "name": "stderr",
     "output_type": "stream",
     "text": [
      "/var/folders/_v/5f3z26jn5yx0g4w1cr9x3kb80000gn/T/ipykernel_45355/2027298663.py:8: SettingWithCopyWarning: \n",
      "A value is trying to be set on a copy of a slice from a DataFrame.\n",
      "Try using .loc[row_indexer,col_indexer] = value instead\n",
      "\n",
      "See the caveats in the documentation: https://pandas.pydata.org/pandas-docs/stable/user_guide/indexing.html#returning-a-view-versus-a-copy\n",
      "  activity_data['hr_derivative'] = activity_data['heartrate'].apply(calculate_hr_derivative)\n"
     ]
    }
   ],
   "source": [
    "import numpy as np\n",
    "\n",
    "# Function to calculate HR derivative for a single list of heart rate values\n",
    "def calculate_hr_derivative(hr_list):\n",
    "    return np.gradient(hr_list)\n",
    "\n",
    "# Apply HR derivative calculation to the DataFrame\n",
    "activity_data['hr_derivative'] = activity_data['heartrate'].apply(calculate_hr_derivative)"
   ],
   "metadata": {
    "collapsed": false,
    "ExecuteTime": {
     "end_time": "2023-06-14T22:33:54.245991Z",
     "start_time": "2023-06-14T22:33:54.049469Z"
    }
   }
  },
  {
   "cell_type": "markdown",
   "source": [
    "# Performing a multilevel linear regression between 𝐻𝑅̇(t), 𝐻𝑅(𝑡) and 𝑃(𝑡)"
   ],
   "metadata": {
    "collapsed": false
   }
  },
  {
   "cell_type": "code",
   "execution_count": 24,
   "outputs": [
    {
     "name": "stdout",
     "output_type": "stream",
     "text": [
      "                            OLS Regression Results                            \n",
      "==============================================================================\n",
      "Dep. Variable:                      y   R-squared:                       0.256\n",
      "Model:                            OLS   Adj. R-squared:                  0.256\n",
      "Method:                 Least Squares   F-statistic:                 4.060e+05\n",
      "Date:                Thu, 15 Jun 2023   Prob (F-statistic):               0.00\n",
      "Time:                        01:11:08   Log-Likelihood:            -1.0432e+07\n",
      "No. Observations:             2353838   AIC:                         2.086e+07\n",
      "Df Residuals:                 2353835   BIC:                         2.086e+07\n",
      "Df Model:                           2                                         \n",
      "Covariance Type:            nonrobust                                         \n",
      "==============================================================================\n",
      "                 coef    std err          t      P>|t|      [0.025      0.975]\n",
      "------------------------------------------------------------------------------\n",
      "const         97.7433      0.027   3654.948      0.000      97.691      97.796\n",
      "x1            -4.2955      0.017   -252.436      0.000      -4.329      -4.262\n",
      "x2             0.0886   9.83e-05    901.054      0.000       0.088       0.089\n",
      "==============================================================================\n",
      "Omnibus:                    55263.101   Durbin-Watson:                   0.092\n",
      "Prob(Omnibus):                  0.000   Jarque-Bera (JB):            98850.583\n",
      "Skew:                          -0.194   Prob(JB):                         0.00\n",
      "Kurtosis:                       3.926   Cond. No.                         564.\n",
      "==============================================================================\n",
      "\n",
      "Notes:\n",
      "[1] Standard Errors assume that the covariance matrix of the errors is correctly specified.\n",
      "HeartRate at t=0 :  97.74329331726071\n",
      "DecayRate :  -4.295471827687403\n",
      "K(Gain) :  0.08859972114024618\n"
     ]
    }
   ],
   "source": [
    "import statsmodels.api as sm\n",
    "\n",
    "# Check lengths of columns\n",
    "column_lengths = activity_data.apply(lambda x: len(x))\n",
    "if not column_lengths.nunique() == 1:\n",
    "    raise ValueError(\"Columns have inconsistent lengths.\")\n",
    "\n",
    "# Explode the heartrate and hr_derivative columns to flatten the nested lists\n",
    "activity_data_exploded = activity_data.explode(['heartrate', 'hr_derivative', 'power'])\n",
    "\n",
    "# Convert columns to numpy arrays\n",
    "heartrate = np.array(activity_data_exploded['heartrate'], dtype=np.int64)\n",
    "hr_derivative = np.array(activity_data_exploded['hr_derivative'], dtype=np.float64)\n",
    "power = np.array(activity_data_exploded['power'], dtype=np.float64)\n",
    "\n",
    "# Add constant column for the intercept term\n",
    "intercept = np.ones((len(activity_data_exploded), 1))\n",
    "\n",
    "# Concatenate the input arrays\n",
    "X = np.concatenate((intercept, hr_derivative[:, np.newaxis], power[:, np.newaxis]), axis=1)\n",
    "y = heartrate\n",
    "\n",
    "# Fit the multilevel linear regression model\n",
    "model = sm.OLS(y, X)\n",
    "results = model.fit()\n",
    "\n",
    "# Print the regression results\n",
    "print(results.summary())\n",
    "\n",
    "HR_0 = results.params[0]\n",
    "decay_rate = results.params[1]\n",
    "K = results.params[2]\n",
    "print(\"HeartRate at t=0 : \" , HR_0)\n",
    "print(\"DecayRate : \" , decay_rate)\n",
    "print(\"K(Gain) : \" , K)"
   ],
   "metadata": {
    "collapsed": false,
    "ExecuteTime": {
     "end_time": "2023-06-14T23:11:08.936450Z",
     "start_time": "2023-06-14T23:11:06.950017Z"
    }
   }
  },
  {
   "cell_type": "markdown",
   "source": [
    "# Plot Relationship"
   ],
   "metadata": {
    "collapsed": false
   }
  },
  {
   "cell_type": "code",
   "execution_count": 36,
   "outputs": [
    {
     "data": {
      "text/plain": "<Figure size 640x480 with 1 Axes>",
      "image/png": "[encoded data removed]"
     },
     "metadata": {},
     "output_type": "display_data"
    }
   ],
   "source": [
    "import numpy as np\n",
    "import matplotlib.pyplot as plt\n",
    "\n",
    "# Assuming you have already obtained the values of the coefficients\n",
    "\n",
    "# Generate a range of values for the power variable\n",
    "power_range = np.linspace(min(power), max(power), 100)\n",
    "\n",
    "# Calculate the predicted heart rate using the model equation\n",
    "predicted_hr = HR_0 + decay_rate * hr_derivative.mean() + K * power_range\n",
    "\n",
    "# Plot the predicted heart rate\n",
    "plt.plot(power_range, predicted_hr, label='Predicted HR')\n",
    "\n",
    "# Set the y-axis range with equal increments\n",
    "plt.ylim(min(heartrate) - 5, max(heartrate) + 5)\n",
    "\n",
    "# Add labels and a legend\n",
    "plt.xlabel('power')\n",
    "plt.ylabel('heartrate')\n",
    "plt.legend()\n",
    "\n",
    "# Display the plot\n",
    "plt.show()\n"
   ],
   "metadata": {
    "collapsed": false,
    "ExecuteTime": {
     "end_time": "2023-06-14T23:18:49.247970Z",
     "start_time": "2023-06-14T23:18:48.596828Z"
    }
   }
  },
  {
   "cell_type": "code",
   "execution_count": null,
   "outputs": [],
   "source": [
    "import pandas as pd\n",
    "from sklearn.linear_model import LinearRegression\n",
    "from sklearn.model_selection import train_test_split\n",
    "\n",
    "# Create an empty DataFrame to store expanded data\n",
    "expanded_data = pd.DataFrame()\n",
    "\n",
    "# Iterate over each row in the DataFrame\n",
    "for _, row in activity_data.iterrows():\n",
    "    x_values = row['heartrate']\n",
    "    y_values = row['power']\n",
    "\n",
    "    # Create a DataFrame with the expanded sequence for this row\n",
    "    row_data = pd.DataFrame({'heartrate': x_values, 'power': y_values})\n",
    "\n",
    "    # Append the row data to the expanded_data DataFrame\n",
    "    expanded_data = pd.concat([expanded_data, row_data], ignore_index=True)\n",
    "\n",
    "# Separate the features (X) and target variable (Y)\n",
    "X = expanded_data[['heartrate']]\n",
    "Y = expanded_data[['power']]\n",
    "\n",
    "# Split the data into training and testing sets\n",
    "X_train, X_test, Y_train, Y_test = train_test_split(X, Y, test_size=0.2, random_state=42)\n",
    "\n",
    "# Create an instance of the linear regression model\n",
    "model = LinearRegression()\n",
    "\n",
    "# Fit the model to the training data\n",
    "model.fit(X_train, Y_train)\n",
    "\n",
    "# Evaluate the model on the testing data\n",
    "score = model.score(X_test, Y_test)\n",
    "\n",
    "# Perform predictions on new data\n",
    "new_X = [70, 100, 130, 155]  # Input new X values\n",
    "new_X = pd.DataFrame({'heartrate': new_X})\n",
    "predictions = model.predict(new_X)\n"
   ],
   "metadata": {
    "collapsed": false
   }
  },
  {
   "cell_type": "code",
   "execution_count": null,
   "outputs": [],
   "source": [
    "import matplotlib.pyplot as plt  # To visualize\n",
    "\n",
    "# Plot the graph\n",
    "plt.scatter(new_X['heartrate'], predictions, color='blue', label='Predicted Power')\n",
    "plt.xlabel('heartrate')\n",
    "plt.ylabel('power')\n",
    "plt.title('Linear Regression Predictions')\n",
    "plt.legend()\n",
    "plt.show()"
   ],
   "metadata": {
    "collapsed": false
   }
  },
  {
   "cell_type": "markdown",
   "source": [],
   "metadata": {
    "collapsed": false
   },
   "outputs": [],
   "execution_count": null
  }
 ],
 "metadata": {
  "kernelspec": {
   "display_name": "Python 3",
   "language": "python",
   "name": "python3"
  },
  "language_info": {
   "codemirror_mode": {
    "name": "ipython",
    "version": 2
   },
   "file_extension": ".py",
   "mimetype": "text/x-python",
   "name": "python",
   "nbconvert_exporter": "python",
   "pygments_lexer": "ipython2",
   "version": "2.7.6"
  }
 },
 "nbformat": 4,
 "nbformat_minor": 0
}
