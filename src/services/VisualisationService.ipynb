{
 "cells": [
  {
   "cell_type": "markdown",
   "source": [
    "#STEP 1 : Visualizing the original data by plotting it with pandas\n"
   ],
   "metadata": {
    "collapsed": false
   },
   "id": "c9540612e53aecce"
  },
  {
   "cell_type": "code",
   "execution_count": null,
   "id": "initial_id",
   "metadata": {
    "collapsed": true
   },
   "outputs": [],
   "source": [
    "\n",
    "for index, row in activity_data.iterrows():\n",
    "    hr_values = row['heartrate']\n",
    "    pow_values = row['power']\n",
    "    plt.scatter(pow_values, hr_values)\n",
    "    # Set x-axis limits\n",
    "    #plt.xlim(0, max(pow_values))  # Set the lower limit as 0 and the upper limit as the maximum value of x-axis param\n",
    "\n",
    "plt.xlabel('Power')\n",
    "plt.ylabel('Heart Rate')\n",
    "plt.title('ScatterPlot of Heartrate and Power')\n",
    "plt.legend()\n",
    "plt.show()\n",
    "\n"
   ]
  },
  {
   "cell_type": "markdown",
   "source": [
    "#STEP 2 : Visualizing the heartrate and power data in separate histograms\n"
   ],
   "metadata": {
    "collapsed": false
   },
   "id": "d0538e6ce8f52cc2"
  },
  {
   "cell_type": "code",
   "execution_count": null,
   "outputs": [],
   "source": [
    "\n",
    "import matplotlib.pyplot as plt\n",
    "import numpy as np\n",
    "\n",
    "# Flatten the 'heartrate' and 'power' columns\n",
    "heartrate_flat = np.concatenate(activity_data['heartrate'].values)\n",
    "power_flat = np.concatenate(activity_data['power'].values)\n",
    "\n",
    "# Create subplots for the histograms\n",
    "fig, (ax1, ax2) = plt.subplots(1, 2, figsize=(18, 7))\n",
    "\n",
    "# Plot the histogram of heartrate\n",
    "ax1.hist(heartrate_flat, bins='auto')\n",
    "ax1.set_xlabel('Heartrate')\n",
    "ax1.set_ylabel('Frequency')\n",
    "ax1.set_title('Histogram of Heartrate')\n",
    "\n",
    "# Set x-axis limit for better visibility of data close to zero\n",
    "ax1.set_ylim(bottom=0)\n",
    "\n",
    "# Plot the histogram of power\n",
    "ax2.hist(power_flat, bins='auto')\n",
    "ax2.set_xlabel('Power')\n",
    "ax2.set_ylabel('Frequency')\n",
    "ax2.set_title('Histogram of Power')\n",
    "\n",
    "# Set x-axis limit for better visibility of data close to zero\n",
    "ax2.set_ylim(bottom=0)\n",
    "# Adjust spacing between subplots\n",
    "plt.tight_layout()\n",
    "\n",
    "# Display the plot\n",
    "plt.show()\n",
    "\n"
   ],
   "metadata": {
    "collapsed": false
   },
   "id": "a51512e61036aba6"
  }
 ],
 "metadata": {
  "kernelspec": {
   "display_name": "Python 3",
   "language": "python",
   "name": "python3"
  },
  "language_info": {
   "codemirror_mode": {
    "name": "ipython",
    "version": 2
   },
   "file_extension": ".py",
   "mimetype": "text/x-python",
   "name": "python",
   "nbconvert_exporter": "python",
   "pygments_lexer": "ipython2",
   "version": "2.7.6"
  }
 },
 "nbformat": 4,
 "nbformat_minor": 5
}
